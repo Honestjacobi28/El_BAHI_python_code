{
 "cells": [
  {
   "cell_type": "markdown",
   "id": "c09cc445-c7cd-4f84-b0a4-11f4a8b5cde2",
   "metadata": {},
   "source": [
    "\n",
    "Ecrire un programme qui permet de :\n",
    "- Déterminer le plus petit commun multiple **PPCM** d'une liste entiers;\n",
    "- Déterminer le plus grand commun diviseur **PGCD** d'une liste entiers;\n",
    "- Calculer cos,sin,tan,arcos,arcsin et arctan d'une liste d'angles;\n",
    "- Calculer la somme,la différence,la multiplication et la division \n",
    "  entre deux liste;\n",
    "- Calculer la puissance et le reste de la division entre deux listes;\n",
    "- Calculer le rang, la transposée,le determinant,inverse et la trace\n",
    "  d'une matrice;\n",
    "\n",
    "- Effectuer les opérations mathématiques sur les éléments d'une\n",
    "  matrice ;\n",
    " \n",
    "- Résoudre un systèmes d'équations linéaires;\n",
    "\n",
    "- Calculer les valeurs propres et les vecteurs\n",
    "  propres d'une matrice.     \n"
   ]
  },
  {
   "cell_type": "code",
   "execution_count": 2,
   "id": "0e4694c6-7db1-449f-80f2-3aab095a5bcf",
   "metadata": {},
   "outputs": [],
   "source": [
    "import numpy as np"
   ]
  },
  {
   "cell_type": "markdown",
   "id": "a23aad1e-68c2-44a2-b1ec-604e0da0736d",
   "metadata": {},
   "source": [
    "#  PPCM d'une liste entiers"
   ]
  },
  {
   "cell_type": "code",
   "execution_count": 28,
   "id": "bbc154f2-7956-405f-893b-0ec89c3cc0dd",
   "metadata": {},
   "outputs": [
    {
     "data": {
      "text/plain": [
       "4"
      ]
     },
     "execution_count": 28,
     "metadata": {},
     "output_type": "execute_result"
    }
   ],
   "source": [
    "np.lcm(2,4)"
   ]
  },
  {
   "cell_type": "code",
   "execution_count": 10,
   "id": "428df9b9-fda8-4e56-81e6-4c953d1b3b66",
   "metadata": {},
   "outputs": [],
   "source": [
    "L=np.array([40,80,60,120])    "
   ]
  },
  {
   "cell_type": "code",
   "execution_count": 12,
   "id": "da734d8c-c33f-48b2-a60e-19d4ba25c03b",
   "metadata": {},
   "outputs": [
    {
     "data": {
      "text/plain": [
       "array([ 40,  80,  60, 120])"
      ]
     },
     "execution_count": 12,
     "metadata": {},
     "output_type": "execute_result"
    }
   ],
   "source": [
    "L"
   ]
  },
  {
   "cell_type": "code",
   "execution_count": 13,
   "id": "8580d399-bd7a-4f02-a624-a74413e0a8f2",
   "metadata": {},
   "outputs": [],
   "source": [
    "x=np.lcm.reduce(L)"
   ]
  },
  {
   "cell_type": "code",
   "execution_count": 15,
   "id": "08e9eef6-d239-4357-9243-b263c0df3008",
   "metadata": {},
   "outputs": [
    {
     "name": "stdout",
     "output_type": "stream",
     "text": [
      "PPCM:  240\n"
     ]
    }
   ],
   "source": [
    "print(\"PPCM: \",x)"
   ]
  },
  {
   "cell_type": "markdown",
   "id": "e19d39aa-8465-4f58-bbce-0349a7fb53cb",
   "metadata": {},
   "source": [
    "#  PGCD d'une liste entiers"
   ]
  },
  {
   "cell_type": "code",
   "execution_count": 17,
   "id": "ac9a222c-812b-444c-af47-c20657e849ed",
   "metadata": {},
   "outputs": [],
   "source": [
    "L=np.array([40,80,60,120])    "
   ]
  },
  {
   "cell_type": "code",
   "execution_count": 21,
   "id": "02f6ff18-87e6-4556-b33a-5d451c3edc35",
   "metadata": {},
   "outputs": [],
   "source": [
    "# retduit les  éléments de L en leur PGCD\n",
    "y=np.gcd.reduce(L)"
   ]
  },
  {
   "cell_type": "code",
   "execution_count": 22,
   "id": "61090eac-bddc-44ff-8da0-8ade098e0a8a",
   "metadata": {},
   "outputs": [
    {
     "name": "stdout",
     "output_type": "stream",
     "text": [
      "PGCD:  20\n"
     ]
    }
   ],
   "source": [
    "print(\"PGCD: \",y)"
   ]
  },
  {
   "cell_type": "markdown",
   "id": "b74c223b-e775-411a-bf3a-e2ffc0c05198",
   "metadata": {},
   "source": [
    "# Calculer cos,sin,tan,arcos,arcsin et arctan d'une liste d'angles"
   ]
  },
  {
   "cell_type": "code",
   "execution_count": 24,
   "id": "d3109193-2727-4018-9682-c8770f83871a",
   "metadata": {},
   "outputs": [
    {
     "data": {
      "text/plain": [
       "1.0"
      ]
     },
     "execution_count": 24,
     "metadata": {},
     "output_type": "execute_result"
    }
   ],
   "source": [
    "np.cos((0))"
   ]
  },
  {
   "cell_type": "code",
   "execution_count": 31,
   "id": "f9146652-d194-45e2-9833-0f81ce09e684",
   "metadata": {},
   "outputs": [],
   "source": [
    "# option d'affichage des tableaux numpy\n",
    "#precision=3: 3 chiffre après la virgule\n",
    "np.set_printoptions(precision=3)"
   ]
  },
  {
   "cell_type": "code",
   "execution_count": 29,
   "id": "c6e70c09-0285-43b0-a27d-d7e9135ad1d5",
   "metadata": {},
   "outputs": [],
   "source": [
    "L= np.array([np.pi,np.pi/2,np.pi/3,np.pi/4])"
   ]
  },
  {
   "cell_type": "markdown",
   "id": "80f44821-41a7-436b-8ffa-949505015f81",
   "metadata": {},
   "source": [
    "## cos , sin et tan"
   ]
  },
  {
   "cell_type": "code",
   "execution_count": 32,
   "id": "9393a615-8e30-4ef6-91aa-184b5ac7f140",
   "metadata": {},
   "outputs": [
    {
     "name": "stdout",
     "output_type": "stream",
     "text": [
      "[1.225e-16 1.000e+00 8.660e-01 7.071e-01]\n"
     ]
    }
   ],
   "source": [
    "#sin\n",
    "Lsin= np.sin(L)\n",
    "print(Lsin)"
   ]
  },
  {
   "cell_type": "code",
   "execution_count": 33,
   "id": "c6118ea1-4cec-4724-ac05-8ace37c4688a",
   "metadata": {},
   "outputs": [
    {
     "name": "stdout",
     "output_type": "stream",
     "text": [
      "[-1.000e+00  6.123e-17  5.000e-01  7.071e-01]\n"
     ]
    }
   ],
   "source": [
    "#cos\n",
    "Lcos= np.cos(L)\n",
    "print(Lcos)"
   ]
  },
  {
   "cell_type": "code",
   "execution_count": 34,
   "id": "5b3675c9-c716-475d-8e67-b7dc4f403cd2",
   "metadata": {},
   "outputs": [
    {
     "name": "stdout",
     "output_type": "stream",
     "text": [
      "[-1.225e-16  1.633e+16  1.732e+00  1.000e+00]\n"
     ]
    }
   ],
   "source": [
    "#tan\n",
    "Ltan= np.tan(L)\n",
    "print(Ltan)"
   ]
  },
  {
   "cell_type": "markdown",
   "id": "fc8918d9-c154-4ff6-a329-49aaf2c1833f",
   "metadata": {},
   "source": [
    "## arccos , arcsin et arctan"
   ]
  },
  {
   "cell_type": "code",
   "execution_count": 36,
   "id": "f16ce1a3-cd35-4357-9a47-116c8ad8d40e",
   "metadata": {},
   "outputs": [],
   "source": [
    "L= np.array([-1,-0.5,-0.1,0,0.1,0.5,1])"
   ]
  },
  {
   "cell_type": "code",
   "execution_count": 39,
   "id": "8ac8c1c7-efd9-4d9e-ae46-766fa7b08c55",
   "metadata": {},
   "outputs": [
    {
     "name": "stdout",
     "output_type": "stream",
     "text": [
      "[3.142 2.094 1.671 1.571 1.471 1.047 0.   ]\n"
     ]
    }
   ],
   "source": [
    "#arccos\n",
    "Larccos= np.arccos(L)\n",
    "print(Larccos)"
   ]
  },
  {
   "cell_type": "code",
   "execution_count": 40,
   "id": "8747758c-059c-40ef-9eae-361a848fc16f",
   "metadata": {},
   "outputs": [
    {
     "name": "stdout",
     "output_type": "stream",
     "text": [
      "[-1.571 -0.524 -0.1    0.     0.1    0.524  1.571]\n"
     ]
    }
   ],
   "source": [
    "#arcsin\n",
    "Larcsin= np.arcsin(L)\n",
    "print(Larcsin)"
   ]
  },
  {
   "cell_type": "code",
   "execution_count": 41,
   "id": "53c1c4bf-6f10-45a7-b3a6-2d50b3bf0a4a",
   "metadata": {},
   "outputs": [
    {
     "name": "stdout",
     "output_type": "stream",
     "text": [
      "[-0.785 -0.464 -0.1    0.     0.1    0.464  0.785]\n"
     ]
    }
   ],
   "source": [
    "#arctan\n",
    "Larctan= np.arctan(L)\n",
    "print(Larctan)"
   ]
  },
  {
   "cell_type": "markdown",
   "id": "c2233ef8-f17e-423b-89c9-0a9d032db721",
   "metadata": {},
   "source": [
    "#   somme,la différence,la multiplication et la division entre deux liste"
   ]
  },
  {
   "cell_type": "code",
   "execution_count": 51,
   "id": "187af4bd-e711-4b3c-8468-f1636eb08310",
   "metadata": {},
   "outputs": [],
   "source": [
    "L1=np.array([6,7,15,14,12,20])\n",
    "L2=np.array([3,40,50,9,26,70])"
   ]
  },
  {
   "cell_type": "code",
   "execution_count": 45,
   "id": "92c97e32-c323-45f7-bcb3-2336e13dd37f",
   "metadata": {},
   "outputs": [
    {
     "name": "stdout",
     "output_type": "stream",
     "text": [
      "[ 9 47 65 23 38 90]\n"
     ]
    }
   ],
   "source": [
    "#somme\n",
    "S=np.add(L1,L2)\n",
    "print(S)"
   ]
  },
  {
   "cell_type": "code",
   "execution_count": 47,
   "id": "9ece8027-8d8a-418c-ad72-208de8e6b6a4",
   "metadata": {},
   "outputs": [
    {
     "name": "stdout",
     "output_type": "stream",
     "text": [
      "[  3 -33 -35   5 -14 -50]\n"
     ]
    }
   ],
   "source": [
    "#difference\n",
    "D=np.subtract(L1,L2)\n",
    "print(D)"
   ]
  },
  {
   "cell_type": "code",
   "execution_count": 48,
   "id": "29b0be63-7183-4a95-8087-4c4837f6c54d",
   "metadata": {},
   "outputs": [
    {
     "name": "stdout",
     "output_type": "stream",
     "text": [
      "[  18  280  750  126  312 1400]\n"
     ]
    }
   ],
   "source": [
    "#produit\n",
    "P=np.multiply(L1,L2)\n",
    "print(P)"
   ]
  },
  {
   "cell_type": "code",
   "execution_count": 49,
   "id": "9f09696e-f613-4dda-9dc3-2f82e1d388cf",
   "metadata": {},
   "outputs": [
    {
     "name": "stdout",
     "output_type": "stream",
     "text": [
      "[2.    0.175 0.3   1.556 0.462 0.286]\n"
     ]
    }
   ],
   "source": [
    "#division\n",
    "Dv=np.divide(L1,L2)\n",
    "print(Dv)"
   ]
  },
  {
   "cell_type": "markdown",
   "id": "3652d5c1-6836-4a81-a9dc-1116b77209c6",
   "metadata": {},
   "source": [
    "# Calculer la puissance et le reste de la division entre deux listes"
   ]
  },
  {
   "cell_type": "code",
   "execution_count": 57,
   "id": "01d79225-8647-4640-8806-218ea6b4fd22",
   "metadata": {},
   "outputs": [
    {
     "name": "stdout",
     "output_type": "stream",
     "text": [
      "[ 36   7 225 196 144 400]\n"
     ]
    }
   ],
   "source": [
    "#puissance\n",
    "L1=np.array([6,7,15,14,12,20])\n",
    "L2=np.array([2,1,2,2,2,2])\n",
    "Pu=np.power(L1,L2)\n",
    "print(Pu)"
   ]
  },
  {
   "cell_type": "code",
   "execution_count": 58,
   "id": "c2aed39f-dafe-4ae8-9c9c-a0ae2877a192",
   "metadata": {},
   "outputs": [
    {
     "name": "stdout",
     "output_type": "stream",
     "text": [
      "[ 0  7 15  5 12 20]\n"
     ]
    }
   ],
   "source": [
    "#reste de la division\n",
    "L1=np.array([6,7,15,14,12,20])\n",
    "L2=np.array([3,40,50,9,26,70])\n",
    "RD=np.mod(L1,L2)\n",
    "print(RD)"
   ]
  },
  {
   "cell_type": "markdown",
   "id": "0c329b95-cdce-4ffb-b5bc-20dd14256918",
   "metadata": {},
   "source": [
    "# Calculer le rang, la transposée,le determinant,inverse et la trace d'une matrice\n"
   ]
  },
  {
   "cell_type": "code",
   "execution_count": 66,
   "id": "17b1c158-3d56-4f48-9ca1-2217a82f8032",
   "metadata": {},
   "outputs": [],
   "source": [
    "M=np.array([\n",
    "    [1,0,3,0],\n",
    "    [0,0,4,1],\n",
    "    [6,0,0,0],\n",
    "    [4,3,5,3],\n",
    "])"
   ]
  },
  {
   "cell_type": "code",
   "execution_count": 67,
   "id": "7328cca7-113d-4ab5-a3e2-ad667ab8c670",
   "metadata": {},
   "outputs": [
    {
     "data": {
      "text/plain": [
       "(4, 4)"
      ]
     },
     "execution_count": 67,
     "metadata": {},
     "output_type": "execute_result"
    }
   ],
   "source": [
    "M.shape"
   ]
  },
  {
   "cell_type": "code",
   "execution_count": 68,
   "id": "aacd7d18-34eb-46b6-ab05-e6305d68b776",
   "metadata": {},
   "outputs": [
    {
     "data": {
      "text/plain": [
       "4"
      ]
     },
     "execution_count": 68,
     "metadata": {},
     "output_type": "execute_result"
    }
   ],
   "source": [
    "# Le rang\n",
    "np.linalg.matrix_rank(M)"
   ]
  },
  {
   "cell_type": "code",
   "execution_count": 65,
   "id": "a0f86487-d7df-47b4-8eb3-19c6d16190ef",
   "metadata": {},
   "outputs": [
    {
     "data": {
      "text/plain": [
       "array([[1, 0, 6],\n",
       "       [0, 0, 0],\n",
       "       [3, 4, 0],\n",
       "       [0, 1, 0]])"
      ]
     },
     "execution_count": 65,
     "metadata": {},
     "output_type": "execute_result"
    }
   ],
   "source": [
    "# transposée\n",
    "M.transpose()"
   ]
  },
  {
   "cell_type": "code",
   "execution_count": 69,
   "id": "6781d7ea-618e-4bf3-8c92-ac24e102e358",
   "metadata": {},
   "outputs": [
    {
     "data": {
      "text/plain": [
       "54.00000000000001"
      ]
     },
     "execution_count": 69,
     "metadata": {},
     "output_type": "execute_result"
    }
   ],
   "source": [
    "# le determinant\n",
    "np.linalg.det(M)"
   ]
  },
  {
   "cell_type": "code",
   "execution_count": 70,
   "id": "eaa63631-47d7-4cb1-95af-79eb511457d7",
   "metadata": {},
   "outputs": [
    {
     "data": {
      "text/plain": [
       "array([[ 0.   ,  0.   ,  0.167,  0.   ],\n",
       "       [ 0.778, -1.   , -0.352,  0.333],\n",
       "       [ 0.333,  0.   , -0.056,  0.   ],\n",
       "       [-1.333,  1.   ,  0.222, -0.   ]])"
      ]
     },
     "execution_count": 70,
     "metadata": {},
     "output_type": "execute_result"
    }
   ],
   "source": [
    "# inverse\n",
    "np.linalg.inv(M)"
   ]
  },
  {
   "cell_type": "code",
   "execution_count": 71,
   "id": "59ac7fde-754f-47db-adb2-49139f16a2b4",
   "metadata": {},
   "outputs": [
    {
     "data": {
      "text/plain": [
       "4"
      ]
     },
     "execution_count": 71,
     "metadata": {},
     "output_type": "execute_result"
    }
   ],
   "source": [
    "# La trace\n",
    "np.trace(M)"
   ]
  },
  {
   "cell_type": "markdown",
   "id": "3f8af66d-9eeb-4d81-a28f-fde105a341bb",
   "metadata": {},
   "source": [
    "# Effectuer les opérations mathématiques sur les éléments d'une matrice"
   ]
  },
  {
   "cell_type": "code",
   "execution_count": 72,
   "id": "85e56ca1-a8f0-46c1-8e7d-ba0fc202cc46",
   "metadata": {},
   "outputs": [
    {
     "data": {
      "text/plain": [
       "array([[1, 0, 3, 0],\n",
       "       [0, 0, 4, 1],\n",
       "       [6, 0, 0, 0],\n",
       "       [4, 3, 5, 3]])"
      ]
     },
     "execution_count": 72,
     "metadata": {},
     "output_type": "execute_result"
    }
   ],
   "source": [
    "M"
   ]
  },
  {
   "cell_type": "code",
   "execution_count": 73,
   "id": "e3510f47-4892-49d4-bd42-2ae1ac382dc6",
   "metadata": {},
   "outputs": [
    {
     "data": {
      "text/plain": [
       "array([[3, 2, 5, 2],\n",
       "       [2, 2, 6, 3],\n",
       "       [8, 2, 2, 2],\n",
       "       [6, 5, 7, 5]])"
      ]
     },
     "execution_count": 73,
     "metadata": {},
     "output_type": "execute_result"
    }
   ],
   "source": [
    "M+2"
   ]
  },
  {
   "cell_type": "code",
   "execution_count": 74,
   "id": "e33db783-cee1-45a6-b231-0b5487e7f1ae",
   "metadata": {},
   "outputs": [
    {
     "data": {
      "text/plain": [
       "array([[ 1,  0,  9,  0],\n",
       "       [ 0,  0, 16,  1],\n",
       "       [36,  0,  0,  0],\n",
       "       [16,  9, 25,  9]])"
      ]
     },
     "execution_count": 74,
     "metadata": {},
     "output_type": "execute_result"
    }
   ],
   "source": [
    "M**2"
   ]
  },
  {
   "cell_type": "code",
   "execution_count": 75,
   "id": "5bcff095-4136-4265-a7dc-434b3c3d72a9",
   "metadata": {},
   "outputs": [
    {
     "data": {
      "text/plain": [
       "array([[ 2,  0,  6,  0],\n",
       "       [ 0,  0,  8,  2],\n",
       "       [12,  0,  0,  0],\n",
       "       [ 8,  6, 10,  6]])"
      ]
     },
     "execution_count": 75,
     "metadata": {},
     "output_type": "execute_result"
    }
   ],
   "source": [
    "M+M"
   ]
  },
  {
   "cell_type": "code",
   "execution_count": 78,
   "id": "f8695ff9-c0e0-4b42-aef9-6e8a86ac45f4",
   "metadata": {},
   "outputs": [
    {
     "data": {
      "text/plain": [
       "array([[0, 0, 0, 0],\n",
       "       [0, 0, 0, 0],\n",
       "       [0, 0, 0, 0],\n",
       "       [0, 0, 0, 0]])"
      ]
     },
     "execution_count": 78,
     "metadata": {},
     "output_type": "execute_result"
    }
   ],
   "source": [
    "M-M"
   ]
  },
  {
   "cell_type": "code",
   "execution_count": 81,
   "id": "823bc0d3-7667-4f07-a1fc-3d22f57b47d1",
   "metadata": {},
   "outputs": [
    {
     "data": {
      "text/plain": [
       "array([[1, 0, 3, 0],\n",
       "       [0, 0, 4, 1],\n",
       "       [6, 0, 0, 0],\n",
       "       [4, 3, 5, 3]])"
      ]
     },
     "execution_count": 81,
     "metadata": {},
     "output_type": "execute_result"
    }
   ],
   "source": [
    "M"
   ]
  },
  {
   "cell_type": "code",
   "execution_count": 80,
   "id": "e39cda50-642c-48a8-8f95-3fcbf9bd58fb",
   "metadata": {},
   "outputs": [
    {
     "data": {
      "text/plain": [
       "array([[19,  0,  3,  0],\n",
       "       [28,  3,  5,  3],\n",
       "       [ 6,  0, 18,  0],\n",
       "       [46,  9, 39, 12]])"
      ]
     },
     "execution_count": 80,
     "metadata": {},
     "output_type": "execute_result"
    }
   ],
   "source": [
    "# Produit matriciel\n",
    "np.matmul(M,M)"
   ]
  },
  {
   "cell_type": "markdown",
   "id": "143f52e9-2fc2-4cab-8a1f-e4983513e3a1",
   "metadata": {},
   "source": [
    "# Résoudre un systèmes d'équations linéaires"
   ]
  },
  {
   "cell_type": "code",
   "execution_count": null,
   "id": "b8ad3422-f028-47d9-9752-e4f9783b664e",
   "metadata": {},
   "outputs": [],
   "source": [
    "# 3x+4y+6z+t=10\n",
    "# -2x+3y+z-2t=6\n",
    "# 4x+8y+2z+3t=0\n",
    "# x-y+z+7t=41"
   ]
  },
  {
   "cell_type": "code",
   "execution_count": 89,
   "id": "f33d41ed-6ec1-4716-b376-f4a0061442b8",
   "metadata": {},
   "outputs": [],
   "source": [
    "M= np.array([\n",
    "    [3,4,6,1],\n",
    "    [-2,3,1,-2],\n",
    "    [4,8,2,3],\n",
    "    [1,-1,1,7]\n",
    "])\n",
    "\n",
    "N=np.array([10,6,0,41])"
   ]
  },
  {
   "cell_type": "code",
   "execution_count": 90,
   "id": "605f9e99-fa42-4d7e-8a8f-b2902489d0e2",
   "metadata": {},
   "outputs": [
    {
     "name": "stdout",
     "output_type": "stream",
     "text": [
      "[-7.059  0.153  4.043  6.31 ]\n"
     ]
    }
   ],
   "source": [
    "x=np.linalg.solve(M,N)\n",
    "print(x)"
   ]
  },
  {
   "cell_type": "markdown",
   "id": "0eb29066-3ffa-4bb9-bad0-6acaf048148c",
   "metadata": {},
   "source": [
    "# Calculer les valeurs propres et les vecteurs propres d'une matrice   \n",
    " "
   ]
  },
  {
   "cell_type": "code",
   "execution_count": 91,
   "id": "439b8937-77d4-4501-a4e4-7f7da40cf1a9",
   "metadata": {},
   "outputs": [
    {
     "data": {
      "text/plain": [
       "array([[ 3,  4,  6,  1],\n",
       "       [-2,  3,  1, -2],\n",
       "       [ 4,  8,  2,  3],\n",
       "       [ 1, -1,  1,  7]])"
      ]
     },
     "execution_count": 91,
     "metadata": {},
     "output_type": "execute_result"
    }
   ],
   "source": [
    "M"
   ]
  },
  {
   "cell_type": "code",
   "execution_count": 92,
   "id": "845fd751-0138-4305-9d02-95c322521c6c",
   "metadata": {},
   "outputs": [],
   "source": [
    "vals,vects=np.linalg.eig(M)"
   ]
  },
  {
   "cell_type": "code",
   "execution_count": 93,
   "id": "89ec8e80-be44-4c1b-a202-9b02e580c669",
   "metadata": {},
   "outputs": [
    {
     "name": "stdout",
     "output_type": "stream",
     "text": [
      "Les valeurs  propres de M sont : [-3.757+0.j     6.979+1.332j  6.979-1.332j  4.799+0.j   ]\n",
      "Les vecteurs  propres de M sont : \n",
      " [[-0.528+0.j    -0.183+0.508j -0.183-0.508j -0.764+0.j   ]\n",
      " [-0.29 +0.j    -0.311-0.066j -0.311+0.066j  0.057+0.j   ]\n",
      " [ 0.797+0.j    -0.142+0.34j  -0.142-0.34j  -0.356+0.j   ]\n",
      " [-0.052+0.j     0.687+0.j     0.687-0.j     0.535+0.j   ]]\n"
     ]
    }
   ],
   "source": [
    "print(\"Les valeurs  propres de M sont :\", vals)\n",
    "print(\"Les vecteurs  propres de M sont : \\n\", vects)"
   ]
  }
 ],
 "metadata": {
  "kernelspec": {
   "display_name": "Python 3 (ipykernel)",
   "language": "python",
   "name": "python3"
  },
  "language_info": {
   "codemirror_mode": {
    "name": "ipython",
    "version": 3
   },
   "file_extension": ".py",
   "mimetype": "text/x-python",
   "name": "python",
   "nbconvert_exporter": "python",
   "pygments_lexer": "ipython3",
   "version": "3.9.18"
  }
 },
 "nbformat": 4,
 "nbformat_minor": 5
}
